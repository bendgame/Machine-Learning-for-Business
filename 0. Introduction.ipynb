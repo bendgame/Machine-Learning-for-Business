{
 "cells": [
  {
   "cell_type": "markdown",
   "metadata": {},
   "source": [
    "Welcome to Machine Learning for Business, a hands on workshop. We'll explore why data science and ML has become so important in the new era of business.\n",
    "\n",
    "## Retail Battle: real life examples\n",
    "\n",
    "![Target-vs-walmart](https://user-images.githubusercontent.com/872296/55593320-ba1c7b00-5711-11e9-8999-3dc50c7dfcf5.jpg)\n",
    "\n",
    "There are two very popular examples of when Data Science can be used as a competitive advantage for business.\n",
    "\n",
    "### Walmart predicting demand before Hurrican Frances\n",
    "\n",
    "[Hurrican Frances](https://en.wikipedia.org/wiki/Hurricane_Frances) struck on 2004, bringing massive damages to Florida. The hurricane had been announced for a couple of weeks. In that time, Walmart had to decide what items to ship to Florida to stock their stores. Some items are expected to have higher demand during catastrophic climate events: batteries, water, flashlights, etc.\n",
    "\n",
    "But Walmart was digging for something more: what else is usually consumed in these circumstances? To answer that question, they relied on data. According to the NY Times, **Wal-Mart has 460 terabytes of data** (as of 2004) stored about their customers, employees, purchases and sales. 460 TB is a huge volume of data, and Walmart knew they could take advantage from it. They decided to analyze and after some data mining, they found that there were specially two items that would be highly demanded due to the hurricane:\n",
    "* Strawberry Pop-Tarts 🍓\n",
    "* Beer 🍺\n",
    "\n",
    "Who would have thought, right? This is the key. With data, we can rely on real behavior and past events, and not so much on human intuition, which can be flawed or biased. The result is that we can anticipate events and improve our decision making. This way, we can:\n",
    "\n",
    "> \"Start predicting what's going to happen, instead of waiting for it to happen\" -- Linda Dillman, Walmart's ex-CIO"
   ]
  },
  {
   "cell_type": "markdown",
   "metadata": {},
   "source": [
    "**Key take away from Walmart's example**: Decision making can be greatly improved with data.\n",
    "\n",
    "_(Read more about Walmart's case in the [original NY Times piece](https://www.nytimes.com/2004/11/14/business/yourmoney/what-walmart-knows-about-customers-habits.html))_\n",
    "\n",
    "### Target knows when you're pregnant\n",
    "_(even before your father)_\n",
    "\n",
    "This is a creepier story, but still very interesting. The year is 2012, and Andrew Pole was, at the time at least, an statistician at Target. He talked to the NY Times and outlined the process they had to identify, not just if a woman was pregnant or not, but also, her due date to within a small window. 🤰🍼\n",
    "\n",
    "The key was to analyze purchase history of women in the same condition, and identify those items that became more demanded during those pregnancy months.\n",
    "\n",
    "Using that data, Target could identify a customer that was pregnant, and even more importantly, offer coupons timed to very specific stages of her pregnancy.\n",
    "\n",
    "There's a key difference with this second story compared to Walmart's, and it's the \"real time\" characteristic of it. After all, Target's example is set in 2012, ages into the technological future compared to Walmart's. In the former, the decision was made \"offline\", probably took a couple of weeks and involved some human-driven decision making. In the case of Target, the decision is made by a machine, in real time. This is the second important aspect of Data Science in business: \n",
    "\n",
    "**Key take away from Target's example**: Being able to make decisions and take action in real time, much faster than anything driven by humans.\n",
    "\n",
    "_(Read more about Targets's case in the [original NY Times piece](https://www.nytimes.com/2012/02/19/magazine/shopping-habits.html?pagewanted=6&_r=1&hp))_\n"
   ]
  }
 ],
 "metadata": {
  "kernelspec": {
   "display_name": "Python 3",
   "language": "python",
   "name": "python3"
  },
  "language_info": {
   "codemirror_mode": {
    "name": "ipython",
    "version": 3
   },
   "file_extension": ".py",
   "mimetype": "text/x-python",
   "name": "python",
   "nbconvert_exporter": "python",
   "pygments_lexer": "ipython3",
   "version": "3.6.8"
  }
 },
 "nbformat": 4,
 "nbformat_minor": 2
}
